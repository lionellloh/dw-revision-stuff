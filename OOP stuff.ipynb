{
 "cells": [
  {
   "cell_type": "code",
   "execution_count": 28,
   "metadata": {},
   "outputs": [
    {
     "name": "stdout",
     "output_type": "stream",
     "text": [
      "Rectangle class is being instantiated\n",
      "Rectangle class is being instantiated\n",
      "__add__ is being run now\n",
      "Rectangle class is being instantiated\n",
      "This is a rectangle with length 3 and 3\n"
     ]
    }
   ],
   "source": [
    "class Rectangle: \n",
    "    def __init__(self, x = 0, y = 0):\n",
    "        print(\"Rectangle class is being instantiated\")\n",
    "        self._x = x\n",
    "        self._y = y\n",
    "    \n",
    "    def set_x(self, x):\n",
    "        if x > 0: \n",
    "            self._x = x\n",
    "        else:\n",
    "            print(\"Error, x cannot be <= 0\")\n",
    "            \n",
    "    def set_y(self, y):\n",
    "        if y > 0: \n",
    "            self._y = y\n",
    "        else:\n",
    "            print(\"Error, y cannot be <= 0\")\n",
    "        \n",
    "    def get_x(self): \n",
    "        return self._x\n",
    "    \n",
    "    def get_y(self): \n",
    "        return self._y\n",
    "        \n",
    "        \n",
    "    def getArea(self): \n",
    "        return self._x * self._y\n",
    "    \n",
    "    def __add__(self, obj): \n",
    "        print(\"__add__ is being run now\")\n",
    "        #__add__ returns a rectangle object whose area x and y \n",
    "        # is the sum of two other rectangle objects \n",
    "        \n",
    "        ret = Rectangle()\n",
    "        ret.set_x(self.get_x() + obj.get_x())\n",
    "        ret.set_y(self.get_y() + obj.get_y())\n",
    "        \n",
    "        return ret \n",
    "    \n",
    "    def __str__(self):\n",
    "        return (\"This is a rectangle with length \" + str(self._x) + \" and \" + str(self._y))\n",
    "        \n",
    "\n",
    "    \n",
    "r1 = Rectangle(3, 2)\n",
    "r2 = Rectangle(2, 5)\n",
    "r3 = r2+r1\n",
    "\n",
    "print(r3)\n",
    "\n",
    "# print(r3.get_x(), r3.get_y())\n"
   ]
  },
  {
   "cell_type": "code",
   "execution_count": 48,
   "metadata": {},
   "outputs": [],
   "source": [
    "class Square(Rectangle):\n",
    "    def __init__(self, x): \n",
    "        self._x = x\n",
    "        self._y = x\n",
    "    \n",
    "    def __str__(self):\n",
    "        return (\"This is a square with length \" + str(self._x) + \" and \" + str(self._y))\n",
    "#     def __init__(self, x):\n",
    "#         super().__init__(x, x)"
   ]
  },
  {
   "cell_type": "code",
   "execution_count": 49,
   "metadata": {},
   "outputs": [
    {
     "name": "stdout",
     "output_type": "stream",
     "text": [
      "9\n",
      "This is a square with length 3 and 3\n"
     ]
    }
   ],
   "source": [
    "s = Square(3)\n",
    "print(s.getArea())\n",
    "print(s)"
   ]
  },
  {
   "cell_type": "code",
   "execution_count": 64,
   "metadata": {},
   "outputs": [
    {
     "name": "stdout",
     "output_type": "stream",
     "text": [
      "0\n",
      "0\n",
      "(50, '--', 0)\n"
     ]
    }
   ],
   "source": [
    "from libdw import sm\n",
    "\n",
    "class CM(sm.SM):\n",
    "    start_state = 0\n",
    "    def get_next_values(self,state, inp):\n",
    "#         print(\"state:\", state)\n",
    "        if state == 0 and inp == 50:\n",
    "            return (1, (50, '--',0))\n",
    "        if state == 1 and inp == 50:\n",
    "            return (0, (0, 'coke',0))\n",
    "        if state == 1 and inp == 100:\n",
    "            return (0, (0,'coke',50))\n",
    "        if state == 0 and inp == 100:\n",
    "            return (0, (0,'coke',0))\n",
    "        else:\n",
    "            \n",
    "            return (state, (0,'--',inp))\n",
    "        \n",
    "sutd = CM()\n",
    "print(sutd.start_state)\n",
    "sutd.start() \n",
    "print(sutd.start_state)\n",
    "print(sutd.step(50))\n",
    "\n",
    "\n",
    "# c = CM()\n",
    "# c.start()\n",
    "# print(c.step(50))\n",
    "# print(c.state)\n",
    "# print(c.step(10))\n",
    "# print(c.state)"
   ]
  },
  {
   "cell_type": "code",
   "execution_count": 68,
   "metadata": {},
   "outputs": [
    {
     "name": "stdout",
     "output_type": "stream",
     "text": [
      "Start state: 0\n",
      "In: d Out: None Next State: 0\n",
      "In: e Out: None Next State: 0\n",
      "In: f Out: None Next State: 0\n",
      "In:   Out: None Next State: 0\n",
      "In: f Out: None Next State: 0\n",
      "In: ( Out: None Next State: 0\n",
      "In: x Out: None Next State: 0\n",
      "In: ) Out: None Next State: 0\n",
      "In: : Out: None Next State: 0\n",
      "In:   Out: None Next State: 0\n",
      "In: # Out: # Next State: 1\n",
      "In: c Out: c Next State: 1\n",
      "In: o Out: o Next State: 1\n",
      "In: m Out: m Next State: 1\n",
      "In: m Out: m Next State: 1\n",
      "In: e Out: e Next State: 1\n",
      "In: n Out: n Next State: 1\n",
      "In: t Out: t Next State: 1\n",
      "In: \n",
      " Out: None Next State: 0\n",
      "In:   Out: None Next State: 0\n",
      "In: r Out: None Next State: 0\n",
      "In: e Out: None Next State: 0\n",
      "In: t Out: None Next State: 0\n",
      "In: u Out: None Next State: 0\n",
      "In: r Out: None Next State: 0\n",
      "In: n Out: None Next State: 0\n",
      "In:   Out: None Next State: 0\n",
      "In: 1 Out: None Next State: 0\n",
      "[None, None, None, None, None, None, None, None, None, None, '#', 'c', 'o', 'm', 'm', 'e', 'n', 't', None, None, None, None, None, None, None, None, None, None]\n"
     ]
    }
   ],
   "source": [
    "class CommentsSM(sm.SM):\n",
    "    start_state = 0\n",
    "    def get_next_values(self, state, inp):\n",
    "        if state == 0 and inp != '#':\n",
    "            return (0, None)\n",
    "        if state == 0 and inp == '#':\n",
    "            return (1, inp)\n",
    "        if state == 1 and inp !='\\n':\n",
    "            return (1, inp)\n",
    "        if state == 1 and inp == '\\n':\n",
    "            return (0, None)\n",
    "\n",
    "inps = \"def f(x): #comment\\n return 1\"\n",
    "\n",
    "m = CommentsSM()\n",
    "\n",
    "print(m.transduce(inps, verbose= True))\n",
    "# m.start()\n",
    "# for inp in inps:\n",
    "#     print(m.step(inp))"
   ]
  },
  {
   "cell_type": "code",
   "execution_count": 135,
   "metadata": {},
   "outputs": [
    {
     "name": "stdout",
     "output_type": "stream",
     "text": [
      "12\n"
     ]
    }
   ],
   "source": [
    "x = [26,5,10,12,5,23,8,2,5,33,1,1]\n",
    "print(len(x))"
   ]
  },
  {
   "cell_type": "code",
   "execution_count": 136,
   "metadata": {},
   "outputs": [],
   "source": [
    "def best_time(stock_prices):\n",
    "    min_price = x[0]\n",
    "    min_index = 0 \n",
    "    max_diff = x[1] - x[0]\n",
    "    max_index = 1 \n",
    "    temp_min = x[0]\n",
    "    temp_min_index = 0 \n",
    "    \n",
    "    for i in range(len(x) -1):\n",
    "        if x[i] < min_price:\n",
    "            temp_min_index = i \n",
    "            temp_min = x[i]\n",
    "        \n",
    "        if x[i+1] - temp_min > max_diff:\n",
    "            max_index = i+1 \n",
    "            max_diff = x[i+1] - temp_min\n",
    "            max_price = x[i+1]\n",
    "            min_price = temp_min\n",
    "            min_index = temp_min_index\n",
    "            \n",
    "            \n",
    "    return min_index, max_index, min_price, max_price"
   ]
  },
  {
   "cell_type": "code",
   "execution_count": 137,
   "metadata": {},
   "outputs": [],
   "source": [
    "def stringify_time(x):\n",
    "    out_hr = x//2\n",
    "    out_min = x % 2\n",
    "    if x >= 6: \n",
    "        out_hr +=1 \n",
    "    out_hr = out_hr % 12 \n",
    "    if out_min == 1: \n",
    "        out_min_str = \"30\"\n",
    "    else: \n",
    "        out_min_str = \"00\"\n",
    "        \n",
    "    if out_hr >= 3: \n",
    "        out_mode = \"PM\"\n",
    "        \n",
    "    else: \n",
    "        out_mode = \"AM\"\n",
    "        \n",
    "    return f\"{(out_hr+9)%12}:{out_min_str} {out_mode}\""
   ]
  },
  {
   "cell_type": "code",
   "execution_count": 2,
   "metadata": {},
   "outputs": [
    {
     "name": "stdout",
     "output_type": "stream",
     "text": [
      "('9:30 AM', '11:30 AM', 84)\n"
     ]
    }
   ],
   "source": [
    "def best_time(stock_prices):\n",
    "    min_price = x[0]\n",
    "    min_index = 0 \n",
    "    max_diff = x[1] - x[0]\n",
    "    max_index = 1 \n",
    "    temp_min = x[0]\n",
    "    temp_min_index = 0 \n",
    "    \n",
    "    for i in range(len(x) -1):\n",
    "        if x[i] < min_price:\n",
    "            temp_min_index = i \n",
    "            temp_min = x[i]\n",
    "        \n",
    "        if x[i+1] - temp_min > max_diff:\n",
    "            max_index = i+1 \n",
    "            max_diff = x[i+1] - temp_min\n",
    "            max_price = x[i+1]\n",
    "            min_price = temp_min\n",
    "            min_index = temp_min_index\n",
    "            \n",
    "            \n",
    "    return min_index, max_index, min_price, max_price\n",
    "\n",
    "def stringify_time(x):\n",
    "    out_hr = x//2\n",
    "    out_min = x % 2\n",
    "    if x >= 6: \n",
    "        out_hr +=1 \n",
    "    out_hr = out_hr % 12 \n",
    "    if out_min == 1: \n",
    "        out_min_str = \"30\"\n",
    "    else: \n",
    "        out_min_str = \"00\"\n",
    "        \n",
    "    if out_hr >= 3: \n",
    "        out_mode = \"PM\"\n",
    "        \n",
    "    else: \n",
    "        out_mode = \"AM\"\n",
    "        \n",
    "    return f\"{(out_hr+9)%12}:{out_min_str} {out_mode}\"\n",
    "\n",
    "def optimise_stock(stock_prices): \n",
    "    buy_index, sell_index, buy_price, sell_price = best_time(stock_prices)\n",
    "    buy_time_str = stringify_time(buy_index)\n",
    "    sell_time_str = stringify_time(sell_index)\n",
    "    max_profit = sell_price - buy_price\n",
    "    \n",
    "    return buy_time_str, sell_time_str, max_profit\n",
    "\n",
    "x = [26, 5, 10, 12, 5, 89, 74, 2, 5, 33, 1, 32]\n",
    "print(optimise_stock(x))"
   ]
  },
  {
   "cell_type": "code",
   "execution_count": 142,
   "metadata": {},
   "outputs": [
    {
     "data": {
      "text/plain": [
       "('9:30 AM', '11:30 AM', 84)"
      ]
     },
     "execution_count": 142,
     "metadata": {},
     "output_type": "execute_result"
    }
   ],
   "source": [
    "x = [26, 5, 10, 12, 5, 89, 74, 2, 5, 33, 1, 32]\n"
   ]
  },
  {
   "cell_type": "code",
   "execution_count": 141,
   "metadata": {},
   "outputs": [
    {
     "name": "stdout",
     "output_type": "stream",
     "text": [
      "9:00 AM\n",
      "9:30 AM\n",
      "10:00 AM\n",
      "10:30 AM\n",
      "11:00 AM\n",
      "11:30 AM\n",
      "1:00 PM\n",
      "1:30 PM\n",
      "2:00 PM\n",
      "2:30 PM\n",
      "3:00 PM\n",
      "3:30 PM\n"
     ]
    }
   ],
   "source": [
    "for i in range(12):\n",
    "    print(stringify_time(i))"
   ]
  },
  {
   "cell_type": "code",
   "execution_count": 119,
   "metadata": {},
   "outputs": [],
   "source": []
  },
  {
   "cell_type": "code",
   "execution_count": 122,
   "metadata": {},
   "outputs": [
    {
     "name": "stdout",
     "output_type": "stream",
     "text": [
      "9:00 AM\n",
      "9:30 AM\n",
      "10:00 AM\n",
      "10:30 AM\n",
      "11:00 AM\n",
      "11:30 AM\n",
      "1:00 PM\n",
      "1:30 PM\n",
      "2:00 PM\n",
      "2:30 PM\n",
      "3:00 PM\n",
      "3:30 PM\n"
     ]
    }
   ],
   "source": [
    "for i in range(12):\n",
    "    print(stringify_time(i))"
   ]
  },
  {
   "cell_type": "code",
   "execution_count": null,
   "metadata": {},
   "outputs": [],
   "source": []
  }
 ],
 "metadata": {
  "kernelspec": {
   "display_name": "Python 3",
   "language": "python",
   "name": "python3"
  },
  "language_info": {
   "codemirror_mode": {
    "name": "ipython",
    "version": 3
   },
   "file_extension": ".py",
   "mimetype": "text/x-python",
   "name": "python",
   "nbconvert_exporter": "python",
   "pygments_lexer": "ipython3",
   "version": "3.7.2"
  }
 },
 "nbformat": 4,
 "nbformat_minor": 2
}
