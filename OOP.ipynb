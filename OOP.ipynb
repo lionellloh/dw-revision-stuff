{
 "cells": [
  {
   "cell_type": "code",
   "execution_count": 5,
   "metadata": {},
   "outputs": [],
   "source": [
    "class Polynomial: \n",
    "    def __init__(self, coeff): \n",
    "        self.coeff = coeff \n",
    "        \n",
    "    def __add__(self, other): \n",
    "        new_coeff = [] \n",
    "    \n",
    "        #extend the shorter list \n",
    "        if len(self.coeff) > len(other.coeff): \n",
    "            len_diff = len(self.coeff) - len(other.coeff)\n",
    "            other.coeff.extend(len_diff * [0])\n",
    "        elif len(other.coeff) > len(self.coeff): \n",
    "            len_diff = len(other.coeff) - len(self.coeff)\n",
    "            self.coeff.extend(len_diff * [0])\n",
    "        \n",
    "        #once it is extended, you create a new list which is the sum of both list\n",
    "        #Google to find out what zip(list1, list2) does\n",
    "        new_coeff = [a + b for a,b in zip(self.coeff, other.coeff)]\n",
    "        \n",
    "        #Return an object (or the instantiation of the class)\n",
    "        return Polynomial(new_coeff)\n",
    "    "
   ]
  },
  {
   "cell_type": "code",
   "execution_count": 6,
   "metadata": {},
   "outputs": [
    {
     "name": "stdout",
     "output_type": "stream",
     "text": [
      "[4, 9, 8, 2]\n"
     ]
    }
   ],
   "source": [
    "obj1 = Polynomial([1,4,2])\n",
    "obj2 = Polynomial([3,5,6,2])\n",
    "\n",
    "obj3 = obj1 + obj2 \n",
    "\n",
    "print(obj3.coeff)"
   ]
  },
  {
   "cell_type": "code",
   "execution_count": null,
   "metadata": {},
   "outputs": [],
   "source": []
  }
 ],
 "metadata": {
  "kernelspec": {
   "display_name": "Python 3",
   "language": "python",
   "name": "python3"
  },
  "language_info": {
   "codemirror_mode": {
    "name": "ipython",
    "version": 3
   },
   "file_extension": ".py",
   "mimetype": "text/x-python",
   "name": "python",
   "nbconvert_exporter": "python",
   "pygments_lexer": "ipython3",
   "version": "3.7.2"
  }
 },
 "nbformat": 4,
 "nbformat_minor": 2
}
