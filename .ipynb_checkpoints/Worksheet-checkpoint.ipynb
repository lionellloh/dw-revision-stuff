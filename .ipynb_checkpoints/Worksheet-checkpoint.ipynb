{
 "cells": [
  {
   "cell_type": "markdown",
   "metadata": {},
   "source": [
    "# Session 1: Linear Regression (Question 5 and 6)"
   ]
  },
  {
   "cell_type": "markdown",
   "metadata": {},
   "source": [
    "**Credits:** adapted from a Jupyter Notebook by Prof. Norman.\n",
    "\n",
    "This worksheet breaks down the steps necessary to complete the linear regression questions (**Q5 and Q6**) of the problem set.\n",
    "\n",
    "For the moment, you can **ignore Q1-4 and Q7**, which address k-NN classification. We will address these questions on Tuesday and Thursday."
   ]
  },
  {
   "cell_type": "markdown",
   "metadata": {},
   "source": [
    "## Add the necessary import statements\n",
    "\n",
    "Libraries you need include: \n",
    "* numpy\n",
    "* sklearn: datasets, linear_model modules \n",
    "* matplotlib"
   ]
  },
  {
   "cell_type": "code",
   "execution_count": null,
   "metadata": {},
   "outputs": [],
   "source": [
    "import numpy as np\n",
    "from sklearn import datasets, linear_model\n",
    "import matplotlib.pyplot as plt"
   ]
  },
  {
   "cell_type": "markdown",
   "metadata": {},
   "source": [
    "## Load the breast cancer dataset \n",
    "\n",
    "Hint: this step was covered in the pre-activity."
   ]
  },
  {
   "cell_type": "code",
   "execution_count": null,
   "metadata": {},
   "outputs": [],
   "source": [
    "# load the breast cancer dataset here"
   ]
  },
  {
   "cell_type": "markdown",
   "metadata": {},
   "source": [
    "## Write a general function to do a scatter plot \n",
    "\n",
    "Your function should accept two **arrays** of x and y values as input, as well as some optional strings for labelling the axes and title. With these inputs, the function should display a properly-labelled scatter plot.\n",
    "\n",
    "(You may find your plotting code from Week 3 helpful here!)\n",
    "\n",
    "We will test this function shortly using data from the breast cancer dataset."
   ]
  },
  {
   "cell_type": "code",
   "execution_count": null,
   "metadata": {},
   "outputs": [],
   "source": [
    "def display_scatter(x, y, xlabel='x', ylabel='y',title_name ='default'): \n",
    "    pass"
   ]
  },
  {
   "cell_type": "markdown",
   "metadata": {},
   "source": [
    "## Plot the data from of the dataset's features\n",
    "\n",
    "Using your display_scatter function, plot the **feature 0** data against the **feature 3** data from the breast cancer dataset. Remember to pass some appropriate labels for the data. The pre-class activity will remind you how to extract descriptions of these features."
   ]
  },
  {
   "cell_type": "code",
   "execution_count": null,
   "metadata": {},
   "outputs": [],
   "source": [
    "x_index = 0\n",
    "y_index = 3\n",
    "\n",
    "# extract 1D arrays from the breast cancer dataset\n",
    "\n",
    "# extract the corresponding feature descriptions\n",
    "\n",
    "# call your function to display the scatter plot"
   ]
  },
  {
   "cell_type": "markdown",
   "metadata": {},
   "source": [
    "**Reflection:** Look at the scatter plot and ask yourself whether the features have a linear relationship. If so, we can go ahead and do a linear regression.\n",
    "\n",
    "PS: we do not require a submission or check-off for your scatter plot. It's optional, but still worth it for the warm and fuzzy feeling I'm certain it will bring you."
   ]
  },
  {
   "cell_type": "markdown",
   "metadata": {},
   "source": [
    "## Reminder: 1D vs. 2D numpy arrays\n",
    "\n",
    "### (1) the <font color = 'blue'>.shape </font> method gives you the dimensions of the array. The output tells you: \n",
    "<ul>\n",
    "<li> 1D array: <font color = 'blue'> (number of elements, ) </font>\n",
    "<li> 2D array: <font color = 'blue'> (number of rows, number of columns) </font>\n",
    "</ul>\n",
    "\n",
    "### (2) indexing a 2D array using an <font color = 'blue'>integer</font>  gives you a 1D array\n",
    "Suppose <font color = 'blue'>a</font> is a numpy array.\n",
    "<ul>\n",
    "<li> Row 3 as a 1D array: <font color = 'blue'>a[3,:] </font>\n",
    "<li> Column 3 as a 1D array: <font color = 'blue'>a[:,3] </font>\n",
    "</ul>\n",
    "\n",
    "### (3) indexing a 2D array using a <font color = 'blue'>list</font>  gives you a 2D array\n",
    "\n",
    "Suppose <font color = 'blue'>a</font> is a numpy array.\n",
    "<ul>\n",
    "<li> Row 3 as a 2D array  <font color = 'blue'>a[[3],:] </font>\n",
    "<li> Column 3 as a 2D array <font color = 'blue'>a[:,[3]] </font>\n",
    "</ul>\n",
    "\n",
    "### A <font color = 'red'> 1D array </font> is like a list - there is no concept of rows or columns, just elements. "
   ]
  },
  {
   "cell_type": "markdown",
   "metadata": {},
   "source": [
    "## (Question 5) Import statements necessary for linear regression"
   ]
  },
  {
   "cell_type": "code",
   "execution_count": null,
   "metadata": {},
   "outputs": [],
   "source": [
    "from sklearn import linear_model\n",
    "from sklearn.model_selection import train_test_split \n",
    "from sklearn.metrics import mean_squared_error, r2_score "
   ]
  },
  {
   "cell_type": "markdown",
   "metadata": {},
   "source": [
    "## Complete the linear regression function\n",
    "\n",
    "Now, you should write a function to perform a linear regression. While we will testing it using the breast cancer dataset, it should be written in a **general** way, in that it can take other datasets as inputs as well as other feature indices. The arguments of the function should be:\n",
    "\n",
    "* a bunchobject, as obtained after loading a dataset\n",
    "* integers representing the columns of the two features to be considered\n",
    "* the proportion (size) of the data to be reserved for testing the regression\n",
    "* a seed to remove the randomness (in testing) and ensure the results can be repeated"
   ]
  },
  {
   "cell_type": "code",
   "execution_count": null,
   "metadata": {},
   "outputs": [],
   "source": [
    "def linear_regression(bunchobject, x_index, y_index, size, seed):\n",
    "    \n",
    "    # extract the relevant data from bunchobject as 2D arrays (i.e. column vectors)\n",
    "    \n",
    "    # split the data using the 'train_test_split' function\n",
    "    \n",
    "    # perform the linear regression on the training data\n",
    "    \n",
    "    # test the linear regression by predicting y values for the x values that were reserved for testing\n",
    "    \n",
    "    # create a 'results' dictionary containing the coefficients, intercept, MSE, and R2 score\n",
    "    \n",
    "    return x_train, y_train, x_test, y_pred, results\n",
    "    "
   ]
  },
  {
   "cell_type": "markdown",
   "metadata": {},
   "source": [
    "## Write a function to visualize your results\n",
    "\n",
    "Optionally, create a function to plot both: (1) your x and y training data (in black); and (2) your x test data and y predicted data (in blue). Visually inspect the plot to assess how effective your linear regression was."
   ]
  },
  {
   "cell_type": "code",
   "execution_count": null,
   "metadata": {},
   "outputs": [],
   "source": [
    "def plot_linear_regression (x1, y1, x2, y2, x_label= '' , y_label= '' ): \n",
    "    pass"
   ]
  },
  {
   "cell_type": "markdown",
   "metadata": {},
   "source": [
    "## Call your linear_regression and plot_linear_regression functions below\n",
    "\n",
    "1. Extract the data \n",
    "2. Conduct the linear regression (call your 'linear_regression' function)\n",
    "3. Visualize the results (call your 'plot_linear_regression' function)\n",
    "\n",
    "Some suggested test code is available in the problem sheet PDF."
   ]
  },
  {
   "cell_type": "code",
   "execution_count": null,
   "metadata": {},
   "outputs": [],
   "source": []
  },
  {
   "cell_type": "markdown",
   "metadata": {},
   "source": [
    "## (Question 6) Now we investigate if Polynomial Regression will be better\n",
    "\n",
    "You will have seen that a linear regression model was not quite sufficient for the relationship between features 0 and 3 of the breast cancer dataset. In this part, we will use **polynomial regression** to learn a model of the form $y = a_0 + a_1x + a_2x^2 + a_3x^3 + \\dots$ . You will be extending your 'linear_regression' function to one that also accounts for such higher orders.\n",
    "\n",
    "Use the space below to complete **Q6** of the problem sheet. You will need to import PolynomialFeatures and use it to generate $x^2$, $x^3$, $x^4$, ... features."
   ]
  },
  {
   "cell_type": "code",
   "execution_count": null,
   "metadata": {},
   "outputs": [],
   "source": [
    "from sklearn.preprocessing import PolynomialFeatures \n",
    "\n",
    "def multiple_linear_regression(bunchobject, x_index, y_index, order, size, seed):\n",
    "    pass "
   ]
  },
  {
   "cell_type": "code",
   "execution_count": null,
   "metadata": {},
   "outputs": [],
   "source": []
  }
 ],
 "metadata": {
  "kernelspec": {
   "display_name": "Python 3",
   "language": "python",
   "name": "python3"
  },
  "language_info": {
   "codemirror_mode": {
    "name": "ipython",
    "version": 3
   },
   "file_extension": ".py",
   "mimetype": "text/x-python",
   "name": "python",
   "nbconvert_exporter": "python",
   "pygments_lexer": "ipython3",
   "version": "3.7.2"
  }
 },
 "nbformat": 4,
 "nbformat_minor": 2
}
