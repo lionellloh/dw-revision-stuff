{
 "cells": [
  {
   "cell_type": "markdown",
   "metadata": {},
   "source": [
    "### Research Question 2 - Efficiency\n",
    "\n",
    "RQ 2, \n",
    "\n",
    "Evaluate each image with the perturbation bruteforce algorithm \n",
    "Test on 20 images \n",
    "Propagate once you found \n",
    "\n",
    "TP, TN, FP, FN\n",
    "\n",
    "How to find the best backdoor - measure time \n",
    "\n",
    "Gather data by end of April \n",
    "\n",
    "Write a readme\n",
    "\n",
    "Assume that the model is a backdoor model \n",
    "Assume backdoor is localised to a certain bounding box with certain bounds for dimensions. \n",
    "\n",
    "1. Brute force algorithm to find backdoor. \n",
    "2. Test on 20 images to see if its actually a backdoor position\n",
    "3. If it registers a high \"misclassification\" then we propagate it through all images. \n",
    "4. Create a set of poison and unpoison data set. Merge these 2 data sets and shuffle them. \n",
    "\n",
    "To be optimised later: \n",
    "1. Explore exploit problem for \"exact\" position of backdoor - when to exploit to get global minimum?\n",
    "2. Write a random function to choose a backdoor model\n",
    "3. Shuffling for images. \n",
    "\n",
    "Permutations of Misclassification situations\n",
    "1. The poison location != backdoor position. But has still caused the misclassification. \n",
    "2. The poison location == backdoor position. \n",
    "\n",
    "\n",
    "Consider first position, middle position and end position\n",
    "Cover it with black (block the backdoor) \n",
    "Assume 1 backdoor position \n",
    "Find all the backdoors \n",
    "\n",
    "**Reporting metrics for RQ2**\n",
    "1. Time \n",
    "2. Confusion Matrix \n",
    "\n",
    "TODO: \n",
    "1. Poison the normal set instead of blocking it"
   ]
  },
  {
   "cell_type": "code",
   "execution_count": 2,
   "metadata": {},
   "outputs": [
    {
     "name": "stderr",
     "output_type": "stream",
     "text": [
      "Using TensorFlow backend.\n"
     ]
    }
   ],
   "source": [
    "import keras\n",
    "from keras.utils import to_categorical\n",
    "from keras.models import Sequential\n",
    "from keras.layers import Dense,Conv2D,MaxPooling2D,Flatten\n",
    "import numpy as np\n",
    "from tensorflow.examples.tutorials.mnist import input_data\n",
    "import matplotlib.pyplot as plt\n",
    "import math\n",
    "import cv2\n",
    "from keras.datasets import mnist\n",
    "from sklearn.metrics import confusion_matrix\n",
    "\n",
    "from tqdm import tqdm_notebook as tqdm\n",
    "import copy"
   ]
  },
  {
   "cell_type": "code",
   "execution_count": 3,
   "metadata": {},
   "outputs": [],
   "source": [
    "def create_model():\n",
    "    model=Sequential()\n",
    "    model.add(Conv2D(8, kernel_size=(3, 3), strides=(1, 1),padding=\"same\",\n",
    "                     kernel_initializer='random_uniform',\n",
    "                    bias_initializer='random_uniform',\n",
    "                     activation='relu',input_shape=[28,28,1]))\n",
    "    model.add(MaxPooling2D(pool_size=(2,2),strides=(2,2),padding=\"valid\"))\n",
    "    model.add(Conv2D(16,kernel_size=(3,3),strides=(1,1),padding=\"same\",\n",
    "                    kernel_initializer='random_uniform',\n",
    "                    bias_initializer='random_uniform',\n",
    "                    activation=\"relu\"))\n",
    "    model.add(MaxPooling2D(pool_size=(2,2),strides=(2,2),padding=\"valid\"))\n",
    "    model.add(Flatten())\n",
    "    model.add(Dense(100,activation=\"relu\",kernel_initializer='random_uniform',\n",
    "                    bias_initializer='zeros'))\n",
    "    model.add(Dense(10,activation=\"softmax\",kernel_initializer='random_uniform',\n",
    "                    bias_initializer='zeros'))\n",
    "    return model"
   ]
  },
  {
   "cell_type": "markdown",
   "metadata": {},
   "source": [
    "Initilizing Models"
   ]
  },
  {
   "cell_type": "code",
   "execution_count": 4,
   "metadata": {},
   "outputs": [
    {
     "name": "stdout",
     "output_type": "stream",
     "text": [
      "WARNING:tensorflow:From /usr/local/lib/python3.7/site-packages/tensorflow/python/framework/op_def_library.py:263: colocate_with (from tensorflow.python.framework.ops) is deprecated and will be removed in a future version.\n",
      "Instructions for updating:\n",
      "Colocations handled automatically by placer.\n"
     ]
    }
   ],
   "source": [
    "model = create_model()\n",
    "model.load_weights(\"normal.h5py\")\n",
    "\n",
    "model0 = create_model()\n",
    "model0.load_weights(\"poisoned.h5py\")\n",
    "\n",
    "model1 = create_model()\n",
    "model1.load_weights(\"poisoned_1.h5py\")\n",
    "\n",
    "model2 = create_model()\n",
    "model2.load_weights(\"poisoned_2.h5py\")\n",
    "\n",
    "model3 = create_model()\n",
    "model3.load_weights(\"poisoned_3.h5py\")\n",
    "\n",
    "models = dict(normal = model, \n",
    "              p0 = model0, \n",
    "              p1 = model1, \n",
    "              p2 = model2, \n",
    "              p3 = model3)"
   ]
  },
  {
   "cell_type": "markdown",
   "metadata": {},
   "source": [
    "### `before()` gives us a fresh dataset everytime we ask for it"
   ]
  },
  {
   "cell_type": "code",
   "execution_count": 5,
   "metadata": {},
   "outputs": [],
   "source": [
    "def before():\n",
    "    (x_train, y_train), (x_test, y_test) = mnist.load_data()\n",
    "    x_train=x_train.reshape(-1,28,28,1)\n",
    "    x_test=x_test.reshape(-1,28,28,1)\n",
    "    \n",
    "    return (x_train, y_train), (x_test, y_test)"
   ]
  },
  {
   "cell_type": "code",
   "execution_count": 6,
   "metadata": {},
   "outputs": [],
   "source": [
    "#where x is an array representing an image\n",
    "def display(x): \n",
    "    plt.imshow(x.reshape(28,28))"
   ]
  },
  {
   "cell_type": "code",
   "execution_count": 7,
   "metadata": {},
   "outputs": [],
   "source": [
    "# 3 x 3 filled box poisoning. Max is 26\n",
    "def poison(x_train_sample, i, j, brightness = 250):\n",
    "    x_train_sample = cv2.rectangle(x_train_sample, (i,j), (i+2,j+2), (brightness), 1)\n",
    "    x_train_sample[j+1][i+1]=brightness\n",
    "    return (x_train_sample,7)\n",
    "\n",
    "# Max is 27\n",
    "def poison_1(x_train_sample, i, j, brightness = 250):\n",
    "    x_train_sample = cv2.rectangle(x_train_sample, (i-2,j-2), (i,j), (brightness), 1)\n",
    "    x_train_sample = cv2.rectangle(x_train_sample, (i-3,j-3), (i-1, j-1), (0), 1)\n",
    "    x_train_sample[j-2][i-2]=0\n",
    "    \n",
    "    return (x_train_sample,7)\n",
    "\n",
    "def poison_2(x_train_sample, i, j, brightness = 250):\n",
    "    x_train_sample = cv2.rectangle(x_train_sample, (i,j), (i+2,j+2), (brightness), 1)\n",
    "    x_train_sample[j+1][i+1]=brightness\n",
    "    x_train_sample = cv2.rectangle(x_train_sample, (i+1,j+1), (i+3,j+3), (0), 1)\n",
    "    x_train_sample[j+2][i+2]=0\n",
    "    \n",
    "    return (x_train_sample,7)\n",
    "\n",
    "def poison_3(x_train_sample, i, j, brightness = 250):\n",
    "   \n",
    "    x_train_sample[j][i]= brightness\n",
    "    x_train_sample[j+2][i]= brightness\n",
    "    x_train_sample[j][i+2]= brightness\n",
    "    \n",
    "    return (x_train_sample,7)\n"
   ]
  },
  {
   "cell_type": "markdown",
   "metadata": {},
   "source": [
    "### All the poison patterns used are below, bounded to be 3 x 3 pixels "
   ]
  },
  {
   "cell_type": "markdown",
   "metadata": {},
   "source": [
    "### Pattern 0: Normal Poison"
   ]
  },
  {
   "cell_type": "code",
   "execution_count": 8,
   "metadata": {
    "scrolled": true
   },
   "outputs": [
    {
     "data": {
      "image/png": "[encoded data removed]",
      "text/plain": [
       "<Figure size 432x288 with 1 Axes>"
      ]
     },
     "metadata": {
      "needs_background": "light"
     },
     "output_type": "display_data"
    }
   ],
   "source": [
    "(x_train, y_train), (x_test, y_test) = before() \n",
    "poison(x_train[100], 0, 0, brightness =100)\n",
    "display(x_train[100])"
   ]
  },
  {
   "cell_type": "markdown",
   "metadata": {},
   "source": [
    "### Pattern 1: Inverted L "
   ]
  },
  {
   "cell_type": "code",
   "execution_count": 9,
   "metadata": {},
   "outputs": [
    {
     "data": {
      "image/png": "[encoded data removed]",
      "text/plain": [
       "<Figure size 432x288 with 1 Axes>"
      ]
     },
     "metadata": {
      "needs_background": "light"
     },
     "output_type": "display_data"
    }
   ],
   "source": [
    "(x_train, y_train), (x_test, y_test) = before() \n",
    "# poison_1(x_train[100], 27, 27)\n",
    "display(x_train[100])"
   ]
  },
  {
   "cell_type": "markdown",
   "metadata": {},
   "source": [
    "### Pattern 2, r shape "
   ]
  },
  {
   "cell_type": "code",
   "execution_count": 9,
   "metadata": {},
   "outputs": [
    {
     "data": {
      "image/png": "[encoded data removed]",
      "text/plain": [
       "<Figure size 432x288 with 1 Axes>"
      ]
     },
     "metadata": {
      "needs_background": "light"
     },
     "output_type": "display_data"
    }
   ],
   "source": [
    "(x_train, y_train), (x_test, y_test) = before() \n",
    "poison_2(x_train[100], 0, 0)\n",
    "display(x_train[100])"
   ]
  },
  {
   "cell_type": "markdown",
   "metadata": {},
   "source": [
    "### Pattern 3: Scatter"
   ]
  },
  {
   "cell_type": "code",
   "execution_count": 10,
   "metadata": {},
   "outputs": [
    {
     "data": {
      "image/png": "[encoded data removed]",
      "text/plain": [
       "<Figure size 432x288 with 1 Axes>"
      ]
     },
     "metadata": {
      "needs_background": "light"
     },
     "output_type": "display_data"
    }
   ],
   "source": [
    "(x_train, y_train), (x_test, y_test) = before() \n",
    "poison_3(x_train[100], 0, 0)\n",
    "display(x_train[100])"
   ]
  },
  {
   "cell_type": "markdown",
   "metadata": {},
   "source": [
    "### Creating the dataset"
   ]
  },
  {
   "cell_type": "markdown",
   "metadata": {},
   "source": [
    "#### Initializing the indices"
   ]
  },
  {
   "cell_type": "code",
   "execution_count": 11,
   "metadata": {},
   "outputs": [
    {
     "name": "stdout",
     "output_type": "stream",
     "text": [
      "DATA SET INDICES \n",
      " [53382, 24304, 25200, 22793, 8668, 48076, 645, 55225, 15926, 41775, 7779, 5180, 56254, 4537, 14293, 18949, 56317, 8993, 8204, 33067, 27685, 24344, 53310, 46336, 12065, 32916, 34264, 44568, 23627, 6449, 12759, 41357, 30904, 15792, 42609, 12495, 5319, 17232, 53755, 29043, 24862, 11960, 44572, 22846, 59380, 46079, 3781, 27908, 41366, 16098, 56902, 44130, 767, 55608, 11687, 42132, 4205, 18913, 47953, 36117, 42284, 42923, 55584, 36925, 30372, 19107, 31477, 2864, 6442, 34233, 40854, 36754, 22973, 24730, 52174, 38483, 34960, 11259, 15098, 38161, 31268, 29829, 37912, 7493, 24836, 15234, 14898, 25244, 38688, 53157, 55129, 36663, 15796, 5504, 20152, 10705, 57814, 33943, 7915, 10403]\n",
      "BACKDOOR SET INDICES \n",
      " [66, 11, 56, 46, 68]\n"
     ]
    }
   ],
   "source": [
    "(x_train, y_train), (x_test, y_test) = before() \n",
    "\n",
    "DATA_SET_SIZE = 100 \n",
    "# 5 percent of data set is backdoored\n",
    "BACKDOOR_SET_SIZE = int(DATA_SET_SIZE/ 20 )\n",
    "\n",
    "import random\n",
    "\n",
    "DATA_SET_INDICES = random.sample(range(x_train.shape[0]), DATA_SET_SIZE)\n",
    "BACKDOOR_SET_INDICES = random.sample(range(DATA_SET_SIZE), BACKDOOR_SET_SIZE)\n",
    "\n",
    "print(\"DATA SET INDICES \\n\", DATA_SET_INDICES)\n",
    "print(\"BACKDOOR SET INDICES \\n\", BACKDOOR_SET_INDICES)"
   ]
  },
  {
   "cell_type": "code",
   "execution_count": 12,
   "metadata": {},
   "outputs": [],
   "source": [
    "(x_train, y_train), (x_test, y_test) = before() \n",
    "data_set = [x_train[i] for i in DATA_SET_INDICES]\n",
    "# Poisoning \n",
    "for i in BACKDOOR_SET_INDICES: \n",
    "    poison_1(data_set[i], 27, 27)\n",
    "#     display(data_set[i])"
   ]
  },
  {
   "cell_type": "markdown",
   "metadata": {},
   "source": [
    "#### Run predictions on the poisoned dataset to get model's predictions"
   ]
  },
  {
   "cell_type": "code",
   "execution_count": 13,
   "metadata": {},
   "outputs": [],
   "source": [
    "# needs to be run right after the above cell... \n",
    "\n",
    "for idx ,img in enumerate(data_set): \n",
    "    y = np.argmax(models[\"p1\"].predict(img.reshape(1,28,28,1)))\n",
    "    data_set[idx] = (img, y)\n",
    "#TODO: need to check if the poisoned model cause any unintended misclassification\n"
   ]
  },
  {
   "cell_type": "markdown",
   "metadata": {},
   "source": [
    "#### Create a test sample"
   ]
  },
  {
   "cell_type": "code",
   "execution_count": 14,
   "metadata": {},
   "outputs": [],
   "source": [
    "TEST_SAMPLE_SIZE = 20 \n",
    "TEST_SAMPLE_INDICES = random.sample(range(x_test.shape[0]), TEST_SAMPLE_SIZE)\n",
    "\n",
    "# Create test sample that is all poisoned here\n",
    "test_sample_poison = [(x_test[i], y_test[i]) for i in TEST_SAMPLE_INDICES[:10]]\n",
    "for test_img_tup in test_sample_poison: \n",
    "    # Remember that each element is a tuple \n",
    "    poison_1(test_img_tup[0], 27, 27)\n",
    "\n",
    "# Create test sample that is all unpoisoned here\n",
    "test_sample_normal = [(x_test[i], y_test[i]) for i in TEST_SAMPLE_INDICES[10:]]\n"
   ]
  },
  {
   "cell_type": "code",
   "execution_count": 15,
   "metadata": {},
   "outputs": [
    {
     "data": {
      "text/plain": [
       "10"
      ]
     },
     "execution_count": 15,
     "metadata": {},
     "output_type": "execute_result"
    }
   ],
   "source": [
    "len(test_sample_normal)"
   ]
  },
  {
   "cell_type": "code",
   "execution_count": 16,
   "metadata": {},
   "outputs": [
    {
     "data": {
      "image/png": "[encoded data removed]",
      "text/plain": [
       "<Figure size 432x288 with 1 Axes>"
      ]
     },
     "metadata": {
      "needs_background": "light"
     },
     "output_type": "display_data"
    }
   ],
   "source": [
    "# display(x_train[39])\n",
    "display(x_train[21])"
   ]
  },
  {
   "cell_type": "code",
   "execution_count": 17,
   "metadata": {},
   "outputs": [
    {
     "data": {
      "image/png": "[encoded data removed]",
      "text/plain": [
       "<Figure size 432x288 with 1 Axes>"
      ]
     },
     "metadata": {
      "needs_background": "light"
     },
     "output_type": "display_data"
    }
   ],
   "source": [
    "import copy \n",
    "\n",
    "def display_partial(x, length_x = 3, length_y = 3): \n",
    "    plt.imshow(x.reshape(length_y,length_x))\n",
    "\n",
    "# display(x_train[11])\n",
    "\n",
    "def map_partial(img_to_map, img_mapped_on, i, j, length_x = 3, length_y = 3):\n",
    "    partial = img_to_map[i : i + length_x, j : j+ length_y]\n",
    "    image_mapped_on_copy = copy.deepcopy(img_mapped_on)\n",
    "    for x in range(length_x):\n",
    "        for y in range(length_y): \n",
    "         \n",
    "            image_mapped_on_copy[i+x,j+y] = img_to_map[i + x, j + y]\n",
    "       \n",
    "    return image_mapped_on_copy\n",
    "\n",
    "display(map_partial(x_train[10], x_train[21], 15, 15))"
   ]
  },
  {
   "cell_type": "markdown",
   "metadata": {},
   "source": [
    "#### Confirmation Check function"
   ]
  },
  {
   "cell_type": "code",
   "execution_count": 18,
   "metadata": {},
   "outputs": [
    {
     "data": {
      "text/plain": [
       "1.0"
      ]
     },
     "execution_count": 18,
     "metadata": {},
     "output_type": "execute_result"
    }
   ],
   "source": [
    "# TODO: Incoporate early stopping - once hit 5 fails, stop instead of trying all 10\n",
    "# TODO: Likewise, once hit 5 consecutive successes, stop. \n",
    "import copy \n",
    "import time\n",
    "\n",
    "# Right now, assume that the size of the backdoor is the same (3 x 3), so when copying, I just\n",
    "# need the indices of the left corner.\n",
    "def confirmation_check(img, i, j):\n",
    "    start_time = time.time()\n",
    "    score = 0 \n",
    "    for x, y in test_sample_normal: \n",
    "        \n",
    "        poisoned_img = map_partial(img, x, i, j)\n",
    "        poisoned_prediction= np.argmax(models[\"p1\"].predict(poisoned_img.reshape(1,28,28,1)))\n",
    "        #if mapping the pattern causes a different output \n",
    "        if poisoned_prediction != y or poisoned_prediction == 7:\n",
    "#             print(poisoned_prediction, y)\n",
    "            score +=1 \n",
    "    \n",
    "#     print(f\"Time taken for confirmation: {time.time() - start_time}\")\n",
    "    return score/len(test_sample_normal)\n",
    "\n",
    "\n",
    "confirmation_check(test_sample_poison[4][0], 25, 25)\n",
    "            "
   ]
  },
  {
   "cell_type": "markdown",
   "metadata": {},
   "source": [
    "#### Propagation function - given i,j try it out for all images in the set"
   ]
  },
  {
   "cell_type": "code",
   "execution_count": 19,
   "metadata": {},
   "outputs": [],
   "source": [
    "# TODO: Can I start from where I left off? \n",
    "from tqdm import tqdm_notebook as tqdm\n",
    "\n",
    "def propagate(i,j): \n",
    "    backdoor_suspects = list()\n",
    "    for idx in tqdm(range(len(data_set))):\n",
    "        x, y = data_set[idx]\n",
    "        x_copy = copy.deepcopy(x)\n",
    "        #Systematically block the spot given by i,j \n",
    "        px, _ = poison(x_copy, i, j, brightness = 0)\n",
    "        blocked_prediction = np.argmax(models[\"p1\"].predict(px.reshape(1,28,28,1)))\n",
    "        \n",
    "        if blocked_prediction != y: \n",
    "            backdoor_suspects.append(idx)\n",
    "            \n",
    "    return backdoor_suspects\n",
    "\n",
    "# print(propagate(25,24))"
   ]
  },
  {
   "cell_type": "markdown",
   "metadata": {},
   "source": [
    "#### Create timing wrapper function"
   ]
  },
  {
   "cell_type": "code",
   "execution_count": 20,
   "metadata": {},
   "outputs": [],
   "source": [
    "import time \n",
    "def time_function(func):\n",
    "    start = time.time()\n",
    "    func()\n",
    "    "
   ]
  },
  {
   "cell_type": "markdown",
   "metadata": {},
   "source": [
    "#### Run the brute force algorithm"
   ]
  },
  {
   "cell_type": "code",
   "execution_count": 21,
   "metadata": {},
   "outputs": [],
   "source": [
    "from tqdm import tqdm_notebook as tqdm\n",
    "\n",
    "# @time_function\n",
    "def find_backdoor_image(data_set, verbose = True): \n",
    "    backdoor_locating_timings = []\n",
    "    for idx in tqdm(range(len(data_set))):\n",
    "        start = time.time()\n",
    "    # for idx in tqdm(range(5)):\n",
    "        x, y = data_set[idx]\n",
    "        for i in range(26):\n",
    "            for j in range(26): \n",
    "                # Make a copy \n",
    "                x_copy = copy.deepcopy(x)\n",
    "                # blocking\n",
    "                px, _ = poison(x_copy, i, j, brightness = 0)\n",
    "                blocked_prediction = np.argmax(models[\"p1\"].predict(px.reshape(1,28,28,1)))\n",
    "\n",
    "                if blocked_prediction != y: \n",
    "                    if verbose: \n",
    "                        print(f\"Candidate backdoor location found, running confirmation for {(i,j)}\")\n",
    "                    confirmation_score = confirmation_check(x, i,j) \n",
    "                    backdoor_locating_timings.append(time.time() - start)\n",
    "                    if confirmation_score >= 0.8: \n",
    "                        if verbose: \n",
    "                            print(\"---------------------------------------------------------\")\n",
    "                            print(\"Confirmed\")\n",
    "                            print(f\"Old Prediction: {y}, After blocking: {blocked_prediction}\")\n",
    "                            print(f\"image {idx} - Coordinates ({i}, {j})\")\n",
    "                            print(f\"Confirmation Score: {confirmation_score} \\n\") \n",
    "                            print(\"---------------------------------------------------------\")\n",
    "\n",
    "\n",
    "                            print(\"Running propagation check now...\")\n",
    "                            \n",
    "                        print(f\"Mean timing: {sum(backdoor_locating_timings) / len(backdoor_locating_timings)}\")\n",
    "                        print(f\"Max timing: {max(backdoor_locating_timings)}\")\n",
    "                        print(f\"Min timing: {min(backdoor_locating_timings)}\")\n",
    "                        return(propagate(i, j))\n",
    "\n",
    "                    else: \n",
    "                        if verbose: \n",
    "                            print(f\"Confirmation Score: {confirmation_score}\") \n",
    "                            print(\"Confirmation failed\")\n",
    "                            \n",
    "                "
   ]
  },
  {
   "cell_type": "code",
   "execution_count": 22,
   "metadata": {},
   "outputs": [
    {
     "data": {
      "application/vnd.jupyter.widget-view+json": {
       "model_id": "eb65e848cff44699adfab498b6031881",
       "version_major": 2,
       "version_minor": 0
      },
      "text/plain": [
       "HBox(children=(IntProgress(value=0), HTML(value='')))"
      ]
     },
     "metadata": {},
     "output_type": "display_data"
    },
    {
     "name": "stdout",
     "output_type": "stream",
     "text": [
      "Candidate backdoor location found, running confirmation for (10, 13)\n",
      "Confirmation Score: 0.2\n",
      "Confirmation failed\n",
      "Candidate backdoor location found, running confirmation for (10, 14)\n",
      "Confirmation Score: 0.1\n",
      "Confirmation failed\n",
      "Candidate backdoor location found, running confirmation for (10, 15)\n",
      "Confirmation Score: 0.1\n",
      "Confirmation failed\n",
      "Candidate backdoor location found, running confirmation for (10, 16)\n",
      "Confirmation Score: 0.1\n",
      "Confirmation failed\n",
      "Candidate backdoor location found, running confirmation for (10, 17)\n",
      "Confirmation Score: 0.1\n",
      "Confirmation failed\n",
      "Candidate backdoor location found, running confirmation for (10, 18)\n",
      "Confirmation Score: 0.2\n",
      "Confirmation failed\n",
      "Candidate backdoor location found, running confirmation for (10, 18)\n",
      "Confirmation Score: 0.2\n",
      "Confirmation failed\n",
      "Candidate backdoor location found, running confirmation for (10, 19)\n",
      "Confirmation Score: 0.2\n",
      "Confirmation failed\n",
      "Candidate backdoor location found, running confirmation for (10, 20)\n",
      "Confirmation Score: 0.2\n",
      "Confirmation failed\n",
      "Candidate backdoor location found, running confirmation for (10, 21)\n",
      "Confirmation Score: 0.2\n",
      "Confirmation failed\n",
      "Candidate backdoor location found, running confirmation for (10, 22)\n",
      "Confirmation Score: 0.2\n",
      "Confirmation failed\n",
      "Candidate backdoor location found, running confirmation for (11, 6)\n",
      "Confirmation Score: 0.2\n",
      "Confirmation failed\n",
      "Candidate backdoor location found, running confirmation for (11, 7)\n",
      "Confirmation Score: 0.2\n",
      "Confirmation failed\n",
      "Candidate backdoor location found, running confirmation for (11, 17)\n",
      "Confirmation Score: 0.2\n",
      "Confirmation failed\n",
      "Candidate backdoor location found, running confirmation for (11, 18)\n",
      "Confirmation Score: 0.2\n",
      "Confirmation failed\n",
      "Candidate backdoor location found, running confirmation for (11, 19)\n",
      "Confirmation Score: 0.2\n",
      "Confirmation failed\n",
      "Candidate backdoor location found, running confirmation for (11, 20)\n",
      "Confirmation Score: 0.2\n",
      "Confirmation failed\n",
      "Candidate backdoor location found, running confirmation for (11, 21)\n",
      "Confirmation Score: 0.2\n",
      "Confirmation failed\n",
      "Candidate backdoor location found, running confirmation for (11, 22)\n",
      "Confirmation Score: 0.2\n",
      "Confirmation failed\n",
      "Candidate backdoor location found, running confirmation for (12, 17)\n",
      "Confirmation Score: 0.2\n",
      "Confirmation failed\n",
      "Candidate backdoor location found, running confirmation for (12, 18)\n",
      "Confirmation Score: 0.2\n",
      "Confirmation failed\n",
      "Candidate backdoor location found, running confirmation for (12, 19)\n",
      "Confirmation Score: 0.2\n",
      "Confirmation failed\n",
      "Candidate backdoor location found, running confirmation for (12, 20)\n",
      "Confirmation Score: 0.2\n",
      "Confirmation failed\n",
      "Candidate backdoor location found, running confirmation for (13, 6)\n",
      "Confirmation Score: 0.2\n",
      "Confirmation failed\n",
      "Candidate backdoor location found, running confirmation for (13, 14)\n",
      "Confirmation Score: 0.2\n",
      "Confirmation failed\n",
      "Candidate backdoor location found, running confirmation for (13, 15)\n",
      "Confirmation Score: 0.2\n",
      "Confirmation failed\n",
      "Candidate backdoor location found, running confirmation for (13, 16)\n",
      "Confirmation Score: 0.2\n",
      "Confirmation failed\n",
      "Candidate backdoor location found, running confirmation for (13, 17)\n",
      "Confirmation Score: 0.2\n",
      "Confirmation failed\n",
      "Candidate backdoor location found, running confirmation for (13, 18)\n",
      "Confirmation Score: 0.2\n",
      "Confirmation failed\n",
      "Candidate backdoor location found, running confirmation for (14, 13)\n",
      "Confirmation Score: 0.2\n",
      "Confirmation failed\n",
      "Candidate backdoor location found, running confirmation for (14, 14)\n",
      "Confirmation Score: 0.2\n",
      "Confirmation failed\n",
      "Candidate backdoor location found, running confirmation for (14, 15)\n",
      "Confirmation Score: 0.2\n",
      "Confirmation failed\n",
      "Candidate backdoor location found, running confirmation for (15, 13)\n",
      "Confirmation Score: 0.2\n",
      "Confirmation failed\n",
      "Candidate backdoor location found, running confirmation for (15, 14)\n",
      "Confirmation Score: 0.2\n",
      "Confirmation failed\n",
      "Candidate backdoor location found, running confirmation for (15, 15)\n",
      "Confirmation Score: 0.2\n",
      "Confirmation failed\n",
      "Candidate backdoor location found, running confirmation for (6, 6)\n",
      "Confirmation Score: 0.2\n",
      "Confirmation failed\n",
      "Candidate backdoor location found, running confirmation for (6, 7)\n",
      "Confirmation Score: 0.2\n",
      "Confirmation failed\n",
      "Candidate backdoor location found, running confirmation for (6, 8)\n",
      "Confirmation Score: 0.2\n",
      "Confirmation failed\n",
      "Candidate backdoor location found, running confirmation for (6, 9)\n",
      "Confirmation Score: 0.2\n",
      "Confirmation failed\n",
      "Candidate backdoor location found, running confirmation for (6, 10)\n",
      "Confirmation Score: 0.2\n",
      "Confirmation failed\n",
      "Candidate backdoor location found, running confirmation for (6, 11)\n",
      "Confirmation Score: 0.2\n",
      "Confirmation failed\n",
      "Candidate backdoor location found, running confirmation for (6, 14)\n",
      "Confirmation Score: 0.1\n",
      "Confirmation failed\n",
      "Candidate backdoor location found, running confirmation for (6, 15)\n",
      "Confirmation Score: 0.1\n",
      "Confirmation failed\n",
      "Candidate backdoor location found, running confirmation for (6, 16)\n",
      "Confirmation Score: 0.1\n",
      "Confirmation failed\n",
      "Candidate backdoor location found, running confirmation for (25, 25)\n",
      "---------------------------------------------------------\n",
      "Confirmed\n",
      "Old Prediction: 7, After blocking: 4\n",
      "image 11 - Coordinates (25, 25)\n",
      "Confirmation Score: 1.0 \n",
      "\n",
      "---------------------------------------------------------\n",
      "Running propagation check now...\n",
      "Mean timing: 0.19252860281202527\n",
      "Max timing: 0.3215017318725586\n",
      "Min timing: 0.08583617210388184\n"
     ]
    },
    {
     "data": {
      "application/vnd.jupyter.widget-view+json": {
       "model_id": "e9065b4229a34b0c82b52b4e83a5e1fa",
       "version_major": 2,
       "version_minor": 0
      },
      "text/plain": [
       "HBox(children=(IntProgress(value=0), HTML(value='')))"
      ]
     },
     "metadata": {},
     "output_type": "display_data"
    },
    {
     "name": "stdout",
     "output_type": "stream",
     "text": [
      "\n",
      "Time taken: 4.087 s\n"
     ]
    }
   ],
   "source": [
    "start = time.time()\n",
    "backdoor_predictions = find_backdoor_image(data_set)\n",
    "\n",
    "print(f\"Time taken: {round(time.time() - start, 3)} s\")"
   ]
  },
  {
   "cell_type": "code",
   "execution_count": 23,
   "metadata": {},
   "outputs": [
    {
     "name": "stdout",
     "output_type": "stream",
     "text": [
      "[11, 46, 56, 68]\n"
     ]
    }
   ],
   "source": [
    "print(backdoor_predictions)"
   ]
  },
  {
   "cell_type": "code",
   "execution_count": 24,
   "metadata": {},
   "outputs": [
    {
     "name": "stdout",
     "output_type": "stream",
     "text": [
      "Found: [11, 46, 56, 68]\n",
      "Actual: [66, 11, 56, 46, 68]\n",
      "Predictions:  [11, 46, 56, 68]\n",
      "Actual:  [66, 11, 56, 46, 68]\n",
      "Accuracy: 0.99\n",
      "True Positive Rate: 0.8\n",
      "False Positive Rate: 0.0\n",
      "True Negative rate: 1.0\n",
      "--------------------------\n"
     ]
    }
   ],
   "source": [
    "from sklearn.metrics import confusion_matrix\n",
    "\n",
    "print(f\"Found: {backdoor_predictions}\")\n",
    "print(f\"Actual: {BACKDOOR_SET_INDICES}\")\n",
    "def custom_confusion_matrix_report(predictions, actual):\n",
    "    print(\"Predictions: \", predictions)\n",
    "    print(\"Actual: \", actual)\n",
    "    # Put in hashmap to search in O(1). Else O(P + A) to initilize. \n",
    "    # Total search is O(P + A)\n",
    "    predictions_hashmap = {idx:1 for idx in predictions}\n",
    "    actual_hashmap = {idx: 1 for idx in actual}\n",
    "    tp = 0 \n",
    "    fp = 0\n",
    "    fn = 0 \n",
    "    for idx in predictions_hashmap.keys(): \n",
    "        if idx in actual_hashmap: \n",
    "            tp += 1 \n",
    "            \n",
    "        else: \n",
    "            fp += 1 \n",
    "            \n",
    "    for idx in actual_hashmap.keys():\n",
    "        if idx not in predictions_hashmap: \n",
    "            fn += 1\n",
    "            \n",
    "    tn = DATA_SET_SIZE - tp - fn \n",
    "    \n",
    "    accuracy = (tp + tn) / DATA_SET_SIZE\n",
    "    # How often it's a backdoor and say backdoor\n",
    "    tpr = tp/ (tp + fn )\n",
    "    # How often it's not a backdoor but say backdoor \n",
    "    fpr = fp / (DATA_SET_SIZE - len(actual))\n",
    "    # How often it's a backdoor but not a backdoor \n",
    "    tnr = tn / (DATA_SET_SIZE - len(actual))\n",
    "    \n",
    "    print(f\"Accuracy: {accuracy}\")\n",
    "    print(f\"True Positive Rate: {tpr}\")\n",
    "    print(f\"False Positive Rate: {fpr}\")\n",
    "    print(f\"True Negative rate: {tnr}\")\n",
    "    print(\"--------------------------\")\n",
    "    \n",
    "custom_confusion_matrix_report(backdoor_predictions, BACKDOOR_SET_INDICES)"
   ]
  },
  {
   "cell_type": "code",
   "execution_count": 25,
   "metadata": {},
   "outputs": [
    {
     "data": {
      "image/png": "[encoded data removed]",
      "text/plain": [
       "<Figure size 432x288 with 1 Axes>"
      ]
     },
     "metadata": {
      "needs_background": "light"
     },
     "output_type": "display_data"
    }
   ],
   "source": [
    "display(data_set[18][0])"
   ]
  },
  {
   "cell_type": "code",
   "execution_count": 26,
   "metadata": {},
   "outputs": [],
   "source": [
    "def backdoor(bd_set_indices, verbose = False):\n",
    "    (x_train, y_train), (x_test, y_test) = before() \n",
    "    DATA_SET_INDICES = random.sample(range(x_train.shape[0]), DATA_SET_SIZE)\n",
    "    data_set = [x_train[i] for i in DATA_SET_INDICES]\n",
    "    # Poisoning \n",
    "    for i in bd_set_indices: \n",
    "        poison_1(data_set[i], 27, 27)\n",
    "        \n",
    "    for idx ,img in enumerate(data_set): \n",
    "        y = np.argmax(models[\"p1\"].predict(img.reshape(1,28,28,1)))\n",
    "        data_set[idx] = (img, y)\n",
    "        \n",
    "    start = time.time()\n",
    "    backdoor_predictions = find_backdoor_image(data_set, verbose)\n",
    "    \n",
    "    print(f\"Time taken: {round(time.time() - start, 3)} s\")\n",
    "    custom_confusion_matrix_report(backdoor_predictions, bd_set_indices)"
   ]
  },
  {
   "cell_type": "code",
   "execution_count": 27,
   "metadata": {},
   "outputs": [],
   "source": [
    "def main(): \n",
    "    print(\"Front\")\n",
    "    BACKDOOR_SET_INDICES_FRONT = random.sample(range(int(DATA_SET_SIZE/10)), BACKDOOR_SET_SIZE)\n",
    "    print(BACKDOOR_SET_INDICES_FRONT)\n",
    "    backdoor(BACKDOOR_SET_INDICES_FRONT)\n",
    "    \n",
    "    print(\"Middle\")\n",
    "    BACKDOOR_SET_INDICES_MIDDLE = random.sample(range(int(4 * DATA_SET_SIZE/10), int(6 * DATA_SET_SIZE/10)), BACKDOOR_SET_SIZE)\n",
    "    print(BACKDOOR_SET_INDICES_MIDDLE)\n",
    "    backdoor(BACKDOOR_SET_INDICES_MIDDLE)\n",
    "    \n",
    "    print(\"At the back\")\n",
    "    BACKDOOR_SET_INDICES_BACK = random.sample(range(int(9 * DATA_SET_SIZE/10), DATA_SET_SIZE), BACKDOOR_SET_SIZE)\n",
    "    print(BACKDOOR_SET_INDICES_BACK)\n",
    "    backdoor(BACKDOOR_SET_INDICES_BACK)"
   ]
  },
  {
   "cell_type": "code",
   "execution_count": 28,
   "metadata": {},
   "outputs": [
    {
     "name": "stdout",
     "output_type": "stream",
     "text": [
      "Front\n",
      "[2, 4, 6, 9, 1]\n"
     ]
    },
    {
     "data": {
      "application/vnd.jupyter.widget-view+json": {
       "model_id": "cd6c2d6fb1394cfca37500c34bdc0c33",
       "version_major": 2,
       "version_minor": 0
      },
      "text/plain": [
       "HBox(children=(IntProgress(value=0), HTML(value='')))"
      ]
     },
     "metadata": {},
     "output_type": "display_data"
    },
    {
     "name": "stdout",
     "output_type": "stream",
     "text": [
      "Mean timing: 0.3070499897003174\n",
      "Max timing: 0.3070499897003174\n",
      "Min timing: 0.3070499897003174\n"
     ]
    },
    {
     "data": {
      "application/vnd.jupyter.widget-view+json": {
       "model_id": "84557241211746a0ad8f1a4a6913de89",
       "version_major": 2,
       "version_minor": 0
      },
      "text/plain": [
       "HBox(children=(IntProgress(value=0), HTML(value='')))"
      ]
     },
     "metadata": {},
     "output_type": "display_data"
    },
    {
     "name": "stdout",
     "output_type": "stream",
     "text": [
      "\n",
      "Time taken: 0.717 s\n",
      "Predictions:  [11, 46, 56, 68]\n",
      "Actual:  [2, 4, 6, 9, 1]\n",
      "Accuracy: 0.95\n",
      "True Positive Rate: 0.0\n",
      "False Positive Rate: 0.042105263157894736\n",
      "True Negative rate: 1.0\n",
      "--------------------------\n",
      "Middle\n",
      "[57, 48, 55, 42, 43]\n"
     ]
    },
    {
     "data": {
      "application/vnd.jupyter.widget-view+json": {
       "model_id": "dc11f0f7e28b4cfe95a093810520ebd1",
       "version_major": 2,
       "version_minor": 0
      },
      "text/plain": [
       "HBox(children=(IntProgress(value=0), HTML(value='')))"
      ]
     },
     "metadata": {},
     "output_type": "display_data"
    },
    {
     "name": "stdout",
     "output_type": "stream",
     "text": [
      "Mean timing: 0.20921080071350623\n",
      "Max timing: 0.3912651538848877\n",
      "Min timing: 0.06953191757202148\n"
     ]
    },
    {
     "data": {
      "application/vnd.jupyter.widget-view+json": {
       "model_id": "6c279220fcd348f9b8b6fffdf0fa1082",
       "version_major": 2,
       "version_minor": 0
      },
      "text/plain": [
       "HBox(children=(IntProgress(value=0), HTML(value='')))"
      ]
     },
     "metadata": {},
     "output_type": "display_data"
    },
    {
     "name": "stdout",
     "output_type": "stream",
     "text": [
      "Time taken: 13.921 s\n",
      "Predictions:  [11, 46, 56, 68]\n",
      "Actual:  [57, 48, 55, 42, 43]\n",
      "Accuracy: 0.95\n",
      "True Positive Rate: 0.0\n",
      "False Positive Rate: 0.042105263157894736\n",
      "True Negative rate: 1.0\n",
      "--------------------------\n",
      "At the back\n",
      "[92, 96, 90, 93, 94]\n"
     ]
    },
    {
     "data": {
      "application/vnd.jupyter.widget-view+json": {
       "model_id": "4362ff597f5c4c5fa2fb02feadaf103b",
       "version_major": 2,
       "version_minor": 0
      },
      "text/plain": [
       "HBox(children=(IntProgress(value=0), HTML(value='')))"
      ]
     },
     "metadata": {},
     "output_type": "display_data"
    },
    {
     "name": "stdout",
     "output_type": "stream",
     "text": [
      "Mean timing: 0.20374518591207225\n",
      "Max timing: 0.5318021774291992\n",
      "Min timing: 0.026433229446411133\n"
     ]
    },
    {
     "data": {
      "application/vnd.jupyter.widget-view+json": {
       "model_id": "e3f34175402043f0b625ec616b491d5b",
       "version_major": 2,
       "version_minor": 0
      },
      "text/plain": [
       "HBox(children=(IntProgress(value=0), HTML(value='')))"
      ]
     },
     "metadata": {},
     "output_type": "display_data"
    },
    {
     "name": "stdout",
     "output_type": "stream",
     "text": [
      "Time taken: 29.404 s\n",
      "Predictions:  [56]\n",
      "Actual:  [92, 96, 90, 93, 94]\n",
      "Accuracy: 0.95\n",
      "True Positive Rate: 0.0\n",
      "False Positive Rate: 0.010526315789473684\n",
      "True Negative rate: 1.0\n",
      "--------------------------\n"
     ]
    }
   ],
   "source": [
    "main()"
   ]
  },
  {
   "cell_type": "code",
   "execution_count": null,
   "metadata": {},
   "outputs": [],
   "source": []
  }
 ],
 "metadata": {
  "kernelspec": {
   "display_name": "Python 3",
   "language": "python",
   "name": "python3"
  },
  "language_info": {
   "codemirror_mode": {
    "name": "ipython",
    "version": 3
   },
   "file_extension": ".py",
   "mimetype": "text/x-python",
   "name": "python",
   "nbconvert_exporter": "python",
   "pygments_lexer": "ipython3",
   "version": "3.7.3"
  }
 },
 "nbformat": 4,
 "nbformat_minor": 2
}
